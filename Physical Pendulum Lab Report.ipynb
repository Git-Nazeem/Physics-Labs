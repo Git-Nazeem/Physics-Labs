{
 "cells": [
  {
   "cell_type": "markdown",
   "metadata": {},
   "source": [
    "Nazeem Patel"
   ]
  },
  {
   "cell_type": "markdown",
   "metadata": {},
   "source": [
    "# Physical Pendulum Lab"
   ]
  },
  {
   "cell_type": "markdown",
   "metadata": {},
   "source": [
    "## Introduction"
   ]
  },
  {
   "cell_type": "markdown",
   "metadata": {},
   "source": [
    "A physical pendulum is an object suspended freely along it's axis of rotation to allow it to oscillate back in forth. An oscillation is any back and forth swinging motion. A Period is the time it takes for object that oscillates back and forth to make one cycle of a back and forth motion. The moment of inertia can be defined as the resistance of angular acceleration that an object can have."
   ]
  },
  {
   "cell_type": "markdown",
   "metadata": {},
   "source": [
    "The goal is to design and create a physical pendulum that will have a Period of 1 second when it oscillates."
   ]
  },
  {
   "cell_type": "markdown",
   "metadata": {},
   "source": [
    "## Procedure"
   ]
  },
  {
   "cell_type": "markdown",
   "metadata": {},
   "source": [
    "* First design the physical pendulum to be able to hold the object that will oscillate.\n",
    "    * I used a styrofoam square as a base, and ractangular block as the tower. I put a nail near the top of the tower as the hook. I had two wooden structures, put together to oscillate. The combined masses of the two allowed it to be easier to swing and have a higher moment of inertia to get closer to a one second period.\n",
    "* After creating the physical pendulum, time the Period accordingly. Set a stopwatch, and count the number of periods. After counting ten, stop the the stopwatch and see if it is close to ten seconds. Ten oscillations for ten seconds will give an accurate respresentation of 1 period per second.\n",
    "* If the stopwatch reads less than ten seconds then the object oscillates too fast and needs more weight or a larger moment of inertia, to slow it down. In contrast, if the stopwatch reads a number higher than ten seconds after ten periods, then you need to lower the weight or decrease the moment of inertia to make it swing faster. Make the adjustments by attaching weights to. But in order to increase the moment of inertia, the weights must be placed away from the axis of rotation (Converse: Putting weights closer, lowers the moment of inertia making the object swing faster)\n",
    "    * I had placed small magnets, that had an adhesive on one side, on the sides of my wooden structure to make the oscillation slower because I would come short on my stopwatch, after testing the period."
   ]
  },
  {
   "cell_type": "markdown",
   "metadata": {},
   "source": [
    "## Results and Observation"
   ]
  },
  {
   "cell_type": "markdown",
   "metadata": {},
   "source": [
    "The wooden figures were not enough for my physical pendulum to reach ten seconds, but actually lower than ten seconds. I would place weights on the edges of my object and that slowed down the object's swing. The weights that I used were magnets with an adhesive side, so it can stick to the wood. Then I would place more magnets to increase the weight and make the object swing slower."
   ]
  },
  {
   "cell_type": "markdown",
   "metadata": {},
   "source": [
    "When the period was tested, there were ten oscillations in 6.49 seconds on my physical pendulum. My pendulum had a low moment of inertia; thus, making it swing faster and having ten periods sooner than needed."
   ]
  },
  {
   "cell_type": "markdown",
   "metadata": {},
   "source": [
    "## Conclusion and Error Analysis"
   ]
  },
  {
   "cell_type": "markdown",
   "metadata": {},
   "source": [
    "The physical pendulum's period relies on the moment of inertia and the weight of the object. However, if adding weights is not enough, the weights can still be manipulated to slow the object's swing down. In order to fix my error of reaching ten periods in 6.49 seconds, rather than 10 seconds, I should place the weights at the lower end of my object and increase the weight as a whole, and by bringing the weights lower, it would swing slower since the moment of inertia would also increase. Rather than having the weights on the side, it would be better to have them at the very bottom, since that would be the area that is farthest from the axis of rotation and will increase the moment of inertia more."
   ]
  },
  {
   "cell_type": "code",
   "execution_count": null,
   "metadata": {
    "collapsed": true
   },
   "outputs": [],
   "source": []
  }
 ],
 "metadata": {
  "anaconda-cloud": {},
  "kernelspec": {
   "display_name": "Python [default]",
   "language": "python",
   "name": "python3"
  },
  "language_info": {
   "codemirror_mode": {
    "name": "ipython",
    "version": 3
   },
   "file_extension": ".py",
   "mimetype": "text/x-python",
   "name": "python",
   "nbconvert_exporter": "python",
   "pygments_lexer": "ipython3",
   "version": "3.5.2"
  }
 },
 "nbformat": 4,
 "nbformat_minor": 1
}
