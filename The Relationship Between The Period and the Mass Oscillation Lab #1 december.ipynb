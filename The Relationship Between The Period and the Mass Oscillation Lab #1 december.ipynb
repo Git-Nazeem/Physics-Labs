{
 "cells": [
  {
   "cell_type": "markdown",
   "metadata": {},
   "source": [
    "Nazeem $Patel$ Lawrence $Avalos$ Michelle $Cho$"
   ]
  },
  {
   "cell_type": "code",
   "execution_count": null,
   "metadata": {
    "collapsed": false
   },
   "outputs": [],
   "source": [
    "%matplotlib inline"
   ]
  },
  {
   "cell_type": "markdown",
   "metadata": {},
   "source": [
    "# The Relationship between The Time of Oscillation and the Mass"
   ]
  },
  {
   "cell_type": "markdown",
   "metadata": {},
   "source": [
    "## Introduction"
   ]
  },
  {
   "cell_type": "markdown",
   "metadata": {},
   "source": [
    "An Oscillation is a back and forth repetitive motion. The object in motion will return to its original position after displacement. A Period is the time it takes for one oscillation to occur. The spring oscillates in and up and down fashion. Each set of down and back up in with the mass is one Oscillation."
   ]
  },
  {
   "cell_type": "markdown",
   "metadata": {},
   "source": [
    "## Procedure"
   ]
  },
  {
   "cell_type": "markdown",
   "metadata": {},
   "source": [
    "* Gather the materials: spring and weights (50g, 100g, 150g, and 200g).\n",
    "* Place a weight on the plate of the spring and then record the amount of oscillations within a 30 second period, for each weight.\n",
    "* Repeat the procedures for each weight and record the data."
   ]
  },
  {
   "cell_type": "markdown",
   "metadata": {},
   "source": [
    "## Data:"
   ]
  },
  {
   "cell_type": "markdown",
   "metadata": {},
   "source": [
    "| Mass(g) | Number of Oscillations |\n",
    "|---|---|\n",
    "|$$50g$$|$$90$$|\n",
    "|$$100g$$|$$79$$|\n",
    "|$$150g$$|$$56$$|\n",
    "|$$200g$$|$$50$$|"
   ]
  },
  {
   "cell_type": "code",
   "execution_count": null,
   "metadata": {
    "collapsed": false
   },
   "outputs": [],
   "source": [
    "import matplotlib.pyplot as plt\n",
    "import numpy as np\n",
    "from scipy.optimize import curve_fit\n",
    "\n",
    "mass = np.array([50, 100, 150, 200])\n",
    "osc = np.array([90, 79, 56, 50])\n",
    "xx = np.linspace(0.0, 200, 20)\n",
    "\n",
    "def lin_model(x, a, b):\n",
    "    return a*x + b\n",
    "\n",
    "a,b = curve_fit(lin_model, mass, osc)[0]\n",
    "print=(a,b)\n",
    "\n",
    "plt.plot(mass, osc, '.r', label = 'Relationship')\n",
    "plt.legend(loc='upper right')\n",
    "plt.xlabel('Mass (g)')\n",
    "plt.ylabel('Number of Oscillations in 30 Sec')\n",
    "plt.title('Relationship Between the Number of Oscillations and Time')\n",
    "plt.plot(xx, lin_model(xx,a,b))\n",
    "plt.show()"
   ]
  },
  {
   "cell_type": "markdown",
   "metadata": {
    "collapsed": false
   },
   "source": []
  },
  {
   "cell_type": "code",
   "execution_count": null,
   "metadata": {
    "collapsed": false
   },
   "outputs": [],
   "source": [
    "(a,b)"
   ]
  },
  {
   "cell_type": "markdown",
   "metadata": {
    "collapsed": true
   },
   "source": [
    "### Model\n",
    "$$-0.28600x + 104.50000$$"
   ]
  },
  {
   "cell_type": "markdown",
   "metadata": {
    "collapsed": true
   },
   "source": [
    "## Results and Observations"
   ]
  },
  {
   "cell_type": "markdown",
   "metadata": {
    "collapsed": true
   },
   "source": [
    "After we reviewed the video and took count of the ammount of oscillations that occured in the 30 second time frame, we noticed that the more weight we put into the spring the less oscillations there is. We can say that this is happening because the more weight there is in the spring, the harder it is for the spring to go back up since the pull back up is being distributed by the weights."
   ]
  },
  {
   "cell_type": "markdown",
   "metadata": {
    "collapsed": true
   },
   "source": [
    "## Conclusion"
   ]
  },
  {
   "cell_type": "markdown",
   "metadata": {},
   "source": [
    "We can conclude that the Period of oscillation in the spring is dependent on the mass that is placed. The data is linear which shows the respective relationship between the mass and Period. As the mass increases, so will the Period and the same goes for the Period if the mass decreases."
   ]
  },
  {
   "cell_type": "code",
   "execution_count": null,
   "metadata": {
    "collapsed": true
   },
   "outputs": [],
   "source": []
  }
 ],
 "metadata": {
  "anaconda-cloud": {},
  "kernelspec": {
   "display_name": "Python [default]",
   "language": "python",
   "name": "python3"
  },
  "language_info": {
   "codemirror_mode": {
    "name": "ipython",
    "version": 3
   },
   "file_extension": ".py",
   "mimetype": "text/x-python",
   "name": "python",
   "nbconvert_exporter": "python",
   "pygments_lexer": "ipython3",
   "version": "3.5.2"
  }
 },
 "nbformat": 4,
 "nbformat_minor": 0
}
