{
 "cells": [
  {
   "cell_type": "code",
   "execution_count": null,
   "metadata": {
    "collapsed": true
   },
   "outputs": [],
   "source": [
    "%matplotlib inline"
   ]
  },
  {
   "cell_type": "markdown",
   "metadata": {},
   "source": [
    "# Modeling Static Friction"
   ]
  },
  {
   "cell_type": "markdown",
   "metadata": {},
   "source": [
    "## Introduction"
   ]
  },
  {
   "cell_type": "markdown",
   "metadata": {},
   "source": [
    "This experiment will find out the amount of force needed to pull different weights. It will help find out some information about Friction and its applications on an object. Friction is the resistance or force an object will have sliding alongside another object or a surface. Static Friction is the force that matches and goes against an applied force on a stationary object. It is the amount of friction on a stationary object."
   ]
  },
  {
   "cell_type": "markdown",
   "metadata": {},
   "source": [
    "## Procedure"
   ]
  },
  {
   "cell_type": "markdown",
   "metadata": {},
   "source": [
    "* Gather the weighted plates (100g, 200g, 300g, 400g, 500g) and the empty box to hold the weights Grab the empty crate with the hook and place the weights in it and place it on an aluminum ramp on a flat surface.\n",
    "* Use the Spring scale to measure the amount of Newtons required to pull each crate with the plates. In order to measure the Static Friction, pull the crate with the spring scale until it budges and measure the initial force that was used for the crate to budge. Record the force needed for each respective weight.\n",
    "* After gatherinhg all the data on the weights, place the ramp at an incline (our's was at 12 degress) and repeat the process of pulling the crate with the same weights. Place the crate at the bottom of the ramp an pull it at a parallel direction with the ramp."
   ]
  },
  {
   "cell_type": "markdown",
   "metadata": {},
   "source": [
    "## Measuring Force Needed To Go Past the Static Friction Threshold"
   ]
  },
  {
   "cell_type": "markdown",
   "metadata": {},
   "source": [
    "| Weights (g) | Force (Newtons) On a Flat Surface | Force (Newtons) on an Incline         \n",
    "|---|---|---|\n",
    "|0 | 0,7 |1.25 |\n",
    "|100 | 0.95 | 1.8 |\n",
    "|200 | 1.4 | 2.45 |\n",
    "|300 | 1.8 | 3.0 |\n",
    "|400 | 2.22 | 3.9 |\n",
    "|500 | 2.45 | 4.4 |"
   ]
  },
  {
   "cell_type": "code",
   "execution_count": 3,
   "metadata": {
    "collapsed": false
   },
   "outputs": [
    {
     "ename": "ImportError",
     "evalue": "No module named 'matplotlib'",
     "output_type": "error",
     "traceback": [
      "\u001b[0;31m---------------------------------------------------------------------------\u001b[0m",
      "\u001b[0;31mImportError\u001b[0m                               Traceback (most recent call last)",
      "\u001b[0;32m<ipython-input-3-b5b0164c09cb>\u001b[0m in \u001b[0;36m<module>\u001b[0;34m()\u001b[0m\n\u001b[0;32m----> 1\u001b[0;31m \u001b[1;32mimport\u001b[0m \u001b[0mmatplotlib\u001b[0m\u001b[1;33m.\u001b[0m\u001b[0mpyplot\u001b[0m \u001b[1;32mas\u001b[0m \u001b[0mplt\u001b[0m\u001b[1;33m\u001b[0m\u001b[0m\n\u001b[0m\u001b[1;32m      2\u001b[0m \u001b[1;32mimport\u001b[0m \u001b[0mnumpy\u001b[0m \u001b[1;32mas\u001b[0m \u001b[0mnp\u001b[0m\u001b[1;33m\u001b[0m\u001b[0m\n\u001b[1;32m      3\u001b[0m \u001b[1;32mfrom\u001b[0m \u001b[0mscipy\u001b[0m\u001b[1;33m.\u001b[0m\u001b[0moptimize\u001b[0m \u001b[1;32mimport\u001b[0m \u001b[0mcurve_fit\u001b[0m\u001b[1;33m\u001b[0m\u001b[0m\n\u001b[1;32m      4\u001b[0m \u001b[1;33m\u001b[0m\u001b[0m\n\u001b[1;32m      5\u001b[0m \u001b[0mWeight\u001b[0m \u001b[1;33m=\u001b[0m \u001b[0mnp\u001b[0m\u001b[1;33m.\u001b[0m\u001b[0marray\u001b[0m\u001b[1;33m(\u001b[0m\u001b[1;33m[\u001b[0m\u001b[1;36m0\u001b[0m\u001b[1;33m,\u001b[0m \u001b[1;36m100\u001b[0m\u001b[1;33m,\u001b[0m \u001b[1;36m200\u001b[0m\u001b[1;33m,\u001b[0m \u001b[1;36m300\u001b[0m\u001b[1;33m,\u001b[0m \u001b[1;36m400\u001b[0m\u001b[1;33m,\u001b[0m \u001b[1;36m500\u001b[0m\u001b[1;33m]\u001b[0m\u001b[1;33m)\u001b[0m\u001b[1;33m\u001b[0m\u001b[0m\n",
      "\u001b[0;31mImportError\u001b[0m: No module named 'matplotlib'"
     ]
    }
   ],
   "source": [
    "import matplotlib.pyplot as plt\n",
    "import numpy as np\n",
    "from scipy.optimize import curve_fit\n",
    "\n",
    "Weight = np.array([0, 100, 200, 300, 400, 500])\n",
    "Force = np.array([0.7, .95, 1.4, 1.8, 2.25, 2.45])\n",
    "xx = np.linspace(0.0,500,20)\n",
    "\n",
    "Weight2 = np.array([0, 100, 200, 300, 400, 500])\n",
    "Force2 = np.array([1.25, 1.8, 2.45, 3.0, 3.9, 4.4])\n",
    "xx = np.linspace(0.0,500,20)\n",
    "\n",
    "def lin_model(x,a,b):\n",
    "    return a*x + b\n",
    "\n",
    "a,b = curve_fit(lin_model, Weight, Force)[0]\n",
    "print=(a,b)\n",
    "\n",
    "c,d = curve_fit(lin_model, Weight2, Force2)[0]\n",
    "print=(c,d)\n",
    "\n",
    "plt.plot(Weight, Force, '.r', label='Force on a Flat Surface')\n",
    "plt.plot(Weight2, Force2, '.b', label='Force on an Incline')\n",
    "plt.legend(loc='lower right')\n",
    "plt.plot(xx, lin_model(xx, a, b))\n",
    "plt.plot(xx, lin_model2(xx, c, d))\n",
    "plt.xlabel('Weights (g)')\n",
    "plt.ylabel('Force (Newtons)')\n",
    "plt.title('Force Needed To Pass The Static Friction Threshold')\n",
    "plt.show()\n"
   ]
  },
  {
   "cell_type": "code",
   "execution_count": 5,
   "metadata": {
    "collapsed": false
   },
   "outputs": [
    {
     "ename": "NameError",
     "evalue": "name 'a' is not defined",
     "output_type": "error",
     "traceback": [
      "\u001b[0;31m---------------------------------------------------------------------------\u001b[0m",
      "\u001b[0;31mNameError\u001b[0m                                 Traceback (most recent call last)",
      "\u001b[0;32m<ipython-input-5-bcb3f9d4f8bc>\u001b[0m in \u001b[0;36m<module>\u001b[0;34m()\u001b[0m\n\u001b[0;32m----> 1\u001b[0;31m \u001b[1;33m(\u001b[0m\u001b[0ma\u001b[0m\u001b[1;33m,\u001b[0m\u001b[0mb\u001b[0m\u001b[1;33m)\u001b[0m\u001b[1;33m\u001b[0m\u001b[0m\n\u001b[0m",
      "\u001b[0;31mNameError\u001b[0m: name 'a' is not defined"
     ]
    }
   ],
   "source": [
    "(a,b)"
   ]
  },
  {
   "cell_type": "markdown",
   "metadata": {},
   "source": [
    "## Results and Observation"
   ]
  },
  {
   "cell_type": "markdown",
   "metadata": {},
   "source": [
    "During the first set of procedures when we placed the ramp on a flat surface, we saw that the amount of force increased as the weights increased. When we performed the same procedures but on an incline, the same can be said that the amount of force increases as the weight in the crate increase. In addition, the amount of force needed to pull each weight on the incline was higher than the force needed to pull the same weights on the flat surface.\n",
    "\n",
    "Our data can be represented as a linear model since as the weight increases, the amount of force needed alao increases at a relatively constant rate. The model is as follows:"
   ]
  },
  {
   "cell_type": "markdown",
   "metadata": {},
   "source": [
    "$$ y=0.00373x+0.65952 $$"
   ]
  },
  {
   "cell_type": "markdown",
   "metadata": {},
   "source": [
    "## Conclusion"
   ]
  },
  {
   "cell_type": "markdown",
   "metadata": {},
   "source": [
    "In conclusion, the force needed to pass the threshold of Static Friction depends on the weight of the object that it is pulling. The model is linear and the amount of Force increases as the weight increases as the data shows. However as the angle of incline increases, the Static Friction decreases. Another way of saying that is the  Normal Force decreases as the angle of incline increases, along with the Static Friction decreasing."
   ]
  },
  {
   "cell_type": "code",
   "execution_count": null,
   "metadata": {
    "collapsed": true
   },
   "outputs": [],
   "source": []
  }
 ],
 "metadata": {
  "anaconda-cloud": {},
  "kernelspec": {
   "display_name": "Python [default]",
   "language": "python",
   "name": "python3"
  },
  "language_info": {
   "codemirror_mode": {
    "name": "ipython",
    "version": 3
   },
   "file_extension": ".py",
   "mimetype": "text/x-python",
   "name": "python",
   "nbconvert_exporter": "python",
   "pygments_lexer": "ipython3",
   "version": "3.5.2"
  }
 },
 "nbformat": 4,
 "nbformat_minor": 1
}
