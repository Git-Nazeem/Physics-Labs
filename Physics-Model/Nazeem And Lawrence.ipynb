{
 "cells": [
  {
   "cell_type": "code",
   "execution_count": 3,
   "metadata": {
    "collapsed": true
   },
   "outputs": [],
   "source": [
    "%matplotlib inline"
   ]
  },
  {
   "cell_type": "markdown",
   "metadata": {},
   "source": [
    "# Modeling Static Friction"
   ]
  },
  {
   "cell_type": "markdown",
   "metadata": {},
   "source": [
    "# Introduction"
   ]
  },
  {
   "cell_type": "markdown",
   "metadata": {},
   "source": []
  },
  {
   "cell_type": "markdown",
   "metadata": {},
   "source": [
    "# Procedure"
   ]
  },
  {
   "cell_type": "markdown",
   "metadata": {},
   "source": [
    "Gather [varying weights]\n",
    "Use the Spring scale to [measure the amount of Newtons required to] pull the objects to pull [each weight for this amount of distance]\n",
    "Keep pulling on the object until it budges [this distance] and record the amount of Newton needed to move it\n"
   ]
  },
  {
   "cell_type": "markdown",
   "metadata": {},
   "source": [
    "## $$ Horizontal $$\n",
    "|Weights(g)  |Force (Newtons)   |\n",
    "|---|---|\n",
    "|0     |0.7  |\n",
    "|100   |.95  |\n",
    "|200   |1.4  |\n",
    "|300   |1.8  |\n",
    "|400   |2.25 |\n",
    "|500   |2.45 |"
   ]
  },
  {
   "cell_type": "markdown",
   "metadata": {},
   "source": [
    "## $$ Ramp $$\n",
    "|Weights(g)  |Force (Newtons)   |\n",
    "|---|---|\n",
    "|0     |1.25  |\n",
    "|100   |1.8  |\n",
    "|200   |2.45  |\n",
    "|300   |3.0  |\n",
    "|400   |3.9 |\n",
    "|500   |4.4 |"
   ]
  },
  {
   "cell_type": "code",
   "execution_count": 4,
   "metadata": {
    "collapsed": false
   },
   "outputs": [
    {
     "data": {
      "image/png": "[encoded data removed]",
      "text/plain": [
       "<matplotlib.figure.Figure at 0x950f8d0>"
      ]
     },
     "metadata": {},
     "output_type": "display_data"
    }
   ],
   "source": [
    "import matplotlib.pyplot as plt\n",
    "import numpy as np\n",
    "from scipy.optimize import curve_fit\n",
    "\n",
    "Weight = np.array([0, 100, 200, 300, 400, 500])\n",
    "Force = np.array([0.7, .95, 1.4, 1.8, 2.25, 2.45])\n",
    "xx = np.linspace(0.0,501,20)\n",
    "\n",
    "def lin_model(x,a,b):\n",
    "    return a*x + b\n",
    "\n",
    "a,b = curve_fit(lin_model, Weight, Force)[0]\n",
    "print=(a,b)\n",
    "\n",
    "plt.plot(Weight, Force, '.')\n",
    "plt.plot(xx, lin_model(xx, a, b))\n",
    "plt.xlabel('Weights (g)')\n",
    "plt.ylabel('Force (Newtons)')\n",
    "plt.title('Statics Friction Model')\n",
    "plt.show()"
   ]
  },
  {
   "cell_type": "code",
   "execution_count": null,
   "metadata": {
    "collapsed": true
   },
   "outputs": [],
   "source": []
  },
  {
   "cell_type": "markdown",
   "metadata": {},
   "source": [
    "# Results and Observation"
   ]
  },
  {
   "cell_type": "code",
   "execution_count": 2,
   "metadata": {
    "collapsed": false
   },
   "outputs": [
    {
     "ename": "SyntaxError",
     "evalue": "invalid syntax (<ipython-input-2-4a5efac7ddf4>, line 1)",
     "output_type": "error",
     "traceback": [
      "\u001b[1;36m  File \u001b[1;32m\"<ipython-input-2-4a5efac7ddf4>\"\u001b[1;36m, line \u001b[1;32m1\u001b[0m\n\u001b[1;33m    The weights we pulled have caused friction\u001b[0m\n\u001b[1;37m              ^\u001b[0m\n\u001b[1;31mSyntaxError\u001b[0m\u001b[1;31m:\u001b[0m invalid syntax\n"
     ]
    }
   ],
   "source": [
    "The weights we pulled have caused friction "
   ]
  }
 ],
 "metadata": {
  "kernelspec": {
   "display_name": "Python 3",
   "language": "python",
   "name": "python3"
  },
  "language_info": {
   "codemirror_mode": {
    "name": "ipython",
    "version": 3
   },
   "file_extension": ".py",
   "mimetype": "text/x-python",
   "name": "python",
   "nbconvert_exporter": "python",
   "pygments_lexer": "ipython3",
   "version": "3.4.4"
  }
 },
 "nbformat": 4,
 "nbformat_minor": 0
}
