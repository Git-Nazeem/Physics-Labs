{
 "cells": [
  {
   "cell_type": "markdown",
   "metadata": {},
   "source": [
    "Nazeem $Patel$ Lawrence $Avalos$ Michelle $Cho$"
   ]
  },
  {
   "cell_type": "code",
   "execution_count": null,
   "metadata": {
    "collapsed": true
   },
   "outputs": [],
   "source": [
    "%matplotlib inline"
   ]
  },
  {
   "cell_type": "markdown",
   "metadata": {},
   "source": [
    "# Inertia Scale Lab: Finding the Relationship Between the Period and Mass"
   ]
  },
  {
   "cell_type": "markdown",
   "metadata": {},
   "source": [
    "## Introduction"
   ]
  },
  {
   "cell_type": "markdown",
   "metadata": {},
   "source": [
    "An Oscillation is a back and forth repetitive motion. The object in motion will return to its original position after displacement. A Period is the time it takes for one oscillation to occur. An Inertia Scale is a tool that can be used to help the relstionship between Periods of Oscillations and mass.  "
   ]
  },
  {
   "cell_type": "markdown",
   "metadata": {},
   "source": [
    "## Procedure"
   ]
  },
  {
   "cell_type": "markdown",
   "metadata": {},
   "source": [
    "* Set up the Inertia Balance on a flat surface. Gather the wights (100g, 200g, 300g, 400g, 500g) and place them at the end of the balance. \n",
    "* First, start with no weights and pull the scale 1cm from it's original position and let it go.\n",
    "* Then record the number of oscillations in 30 seconds. \n",
    "* Repeat this process for the other weights as well and record the data."
   ]
  },
  {
   "cell_type": "markdown",
   "metadata": {},
   "source": [
    "## Data and Analysis"
   ]
  },
  {
   "cell_type": "markdown",
   "metadata": {},
   "source": [
    "|Mass (g)|Number of Oscillations|\n",
    "|---|---|\n",
    "|$$0g$$|$$110$$|\n",
    "|$$100g$$|$$93$$\n",
    "|$$200g$$|$$80$$|\n",
    "|$$300g$$|$$69$$|\n",
    "|$$400g$$|$$62$$|\n",
    "|$$500g$$|$$54$$|"
   ]
  },
  {
   "cell_type": "code",
   "execution_count": null,
   "metadata": {
    "collapsed": false
   },
   "outputs": [],
   "source": [
    "import matplotlib.pyplot as plt\n",
    "import numpy as np\n",
    "from scipy.optimize import curve_fit\n",
    "\n",
    "mass = np.array([0, 100, 200, 300, 400, 500])\n",
    "Osc = np.array([110, 93, 80, 69, 62, 54])\n",
    "xx = np.linspace(0.0,500,20)\n",
    "\n",
    "def lin_mod(x, a, b):\n",
    "    return a*x + b\n",
    "\n",
    "a,b = curve_fit(lin_mod, mass, Osc)[0]\n",
    "print=(a,b)\n",
    "\n",
    "plt.plot(mass, Osc, '.r', label='Number or Oscillations')\n",
    "plt.legend(loc='upper right')\n",
    "plt.plot(xx, lin_mod(xx, a, b))\n",
    "plt.xlabel('Mass (g)')\n",
    "plt.ylabel('Number of Oscillations')\n",
    "plt.title('The Number of Oscillations in 30 Seconds')\n",
    "plt.ylim(0,110)\n",
    "plt.show()"
   ]
  },
  {
   "cell_type": "code",
   "execution_count": null,
   "metadata": {
    "collapsed": false
   },
   "outputs": [],
   "source": [
    "(a,b)"
   ]
  },
  {
   "cell_type": "markdown",
   "metadata": {},
   "source": [
    "### Model\n",
    "$$-0.10971x + 105.42857$$"
   ]
  },
  {
   "cell_type": "markdown",
   "metadata": {},
   "source": [
    "## Results And Observations"
   ]
  },
  {
   "cell_type": "markdown",
   "metadata": {},
   "source": [
    "As the weight increases, the amount of oscillations decrease. This is due to the increase in the Period of Oscillation, meaning that it took longer to complete one oscillation as the mass increases, as the data shows. "
   ]
  },
  {
   "cell_type": "markdown",
   "metadata": {},
   "source": [
    "## Conclusion"
   ]
  },
  {
   "cell_type": "markdown",
   "metadata": {},
   "source": [
    "As a result from the data, we can conclude that the Period of Oscillation depends on mass. As shown, the data is linear which further supports the claims that the period depends on mass."
   ]
  },
  {
   "cell_type": "code",
   "execution_count": null,
   "metadata": {
    "collapsed": true
   },
   "outputs": [],
   "source": []
  }
 ],
 "metadata": {
  "anaconda-cloud": {},
  "kernelspec": {
   "display_name": "Python [conda root]",
   "language": "python",
   "name": "conda-root-py"
  },
  "language_info": {
   "codemirror_mode": {
    "name": "ipython",
    "version": 3
   },
   "file_extension": ".py",
   "mimetype": "text/x-python",
   "name": "python",
   "nbconvert_exporter": "python",
   "pygments_lexer": "ipython3",
   "version": "3.5.2"
  }
 },
 "nbformat": 4,
 "nbformat_minor": 1
}
